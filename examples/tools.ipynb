{
 "cells": [
  {
   "cell_type": "markdown",
   "metadata": {},
   "source": [
    "# Eve: Making Learning Interesting"
   ]
  },
  {
   "cell_type": "markdown",
   "metadata": {},
   "source": [
    "## Load a checkpoint form PyTorch to Eve\n",
    "\n",
    "We provide a script to load a checkpoint from PyTorch net to Eve net in few steps."
   ]
  },
  {
   "cell_type": "code",
   "execution_count": 1,
   "metadata": {},
   "outputs": [
    {
     "name": "stdout",
     "output_type": "stream",
     "text": [
      "/media/densechen/data/code/eve-mli/examples/checkpoint/alexnet-owt-4df8aa71.pth does not contains a 'state_dict' keytry to take the whole checkpoint as state_dict.\n",
      "Please specify a kep map between eve and legacy.\n",
      "You should pick up the paired key in eve and legacy and build a dict like: {'eve_key': 'legacy_key'}, then directly skip the unpaired one.\n",
      "In most cases, the key order will not be changed, it is not a heavy work to do this.\n",
      "key of /media/densechen/data/code/eve-mli/examples/checkpoint/eve-alexnet-owt-4df8aa71.pth\n",
      "['classifier.1.bias',\n",
      " 'classifier.1.weight',\n",
      " 'classifier.4.bias',\n",
      " 'classifier.4.weight',\n",
      " 'classifier.6.bias',\n",
      " 'classifier.6.weight',\n",
      " 'features.0.bias',\n",
      " 'features.0.weight',\n",
      " 'features.10.bias',\n",
      " 'features.10.weight',\n",
      " 'features.3.bias',\n",
      " 'features.3.weight',\n",
      " 'features.6.bias',\n",
      " 'features.6.weight',\n",
      " 'features.8.bias',\n",
      " 'features.8.weight']\n",
      "====================\n",
      "key of /media/densechen/data/code/eve-mli/examples/checkpoint/alexnet-owt-4df8aa71.pth\n",
      "['task_module.cdt1.0.voltage_threshold',\n",
      " 'task_module.cdt1.1.alpha',\n",
      " 'task_module.cdt1.1.bit_width',\n",
      " 'task_module.cdt2.0.voltage_threshold',\n",
      " 'task_module.cdt2.1.alpha',\n",
      " 'task_module.cdt2.1.bit_width',\n",
      " 'task_module.cdt3.0.voltage_threshold',\n",
      " 'task_module.cdt3.1.alpha',\n",
      " 'task_module.cdt3.1.bit_width',\n",
      " 'task_module.cdt4.0.voltage_threshold',\n",
      " 'task_module.cdt4.1.alpha',\n",
      " 'task_module.cdt4.1.bit_width',\n",
      " 'task_module.cdt5.0.voltage_threshold',\n",
      " 'task_module.cdt5.1.alpha',\n",
      " 'task_module.cdt5.1.bit_width',\n",
      " 'task_module.cdt6.0.voltage_threshold',\n",
      " 'task_module.cdt6.1.alpha',\n",
      " 'task_module.cdt6.1.bit_width',\n",
      " 'task_module.cdt7.0.voltage_threshold',\n",
      " 'task_module.cdt7.1.alpha',\n",
      " 'task_module.cdt7.1.bit_width',\n",
      " 'task_module.cls_1.1.bias',\n",
      " 'task_module.cls_1.1.weight',\n",
      " 'task_module.cls_2.1.bias',\n",
      " 'task_module.cls_2.1.weight',\n",
      " 'task_module.cls_3.bias',\n",
      " 'task_module.cls_3.weight',\n",
      " 'task_module.conv1.0.bias',\n",
      " 'task_module.conv1.0.weight',\n",
      " 'task_module.conv2.0.bias',\n",
      " 'task_module.conv2.0.weight',\n",
      " 'task_module.conv3.0.bias',\n",
      " 'task_module.conv3.0.weight',\n",
      " 'task_module.conv4.0.bias',\n",
      " 'task_module.conv4.0.weight',\n",
      " 'task_module.conv5.0.bias',\n",
      " 'task_module.conv5.0.weight']\n"
     ]
    },
    {
     "ename": "ValueError",
     "evalue": "Invalid key map of NoneType. Follow the introduction above to generate a valid key map first.",
     "output_type": "error",
     "traceback": [
      "\u001b[0;31m---------------------------------------------------------------------------\u001b[0m",
      "\u001b[0;31mValueError\u001b[0m                                Traceback (most recent call last)",
      "\u001b[0;32m<ipython-input-1-03f656c87583>\u001b[0m in \u001b[0;36m<module>\u001b[0;34m\u001b[0m\n\u001b[1;32m     12\u001b[0m \u001b[0mnet\u001b[0m \u001b[0;34m=\u001b[0m \u001b[0mEveImageNetAlexNet\u001b[0m\u001b[0;34m(\u001b[0m\u001b[0;34m)\u001b[0m\u001b[0;34m\u001b[0m\u001b[0;34m\u001b[0m\u001b[0m\n\u001b[1;32m     13\u001b[0m \u001b[0;34m\u001b[0m\u001b[0m\n\u001b[0;32m---> 14\u001b[0;31m eve.utils.load_weight_from_legacy_checkpoint(\n\u001b[0m\u001b[1;32m     15\u001b[0m     \u001b[0mnet\u001b[0m\u001b[0;34m,\u001b[0m\u001b[0;34m\u001b[0m\u001b[0;34m\u001b[0m\u001b[0m\n\u001b[1;32m     16\u001b[0m     \u001b[0mlegacy_checkpoint\u001b[0m\u001b[0;34m=\u001b[0m\u001b[0;34m\u001b[0m\u001b[0;34m\u001b[0m\u001b[0m\n",
      "\u001b[0;32m~/miniconda3/envs/pytorch/lib/python3.8/site-packages/eve_mli-0.0.1rc0-py3.8.egg/eve/utils/legacy.py\u001b[0m in \u001b[0;36mload_weight_from_legacy_checkpoint\u001b[0;34m(m, legacy_checkpoint, eve_checkpoint, key_map)\u001b[0m\n\u001b[1;32m     57\u001b[0m         \u001b[0mprint\u001b[0m\u001b[0;34m(\u001b[0m\u001b[0;34mf\"key of {legacy_checkpoint}\"\u001b[0m\u001b[0;34m)\u001b[0m\u001b[0;34m\u001b[0m\u001b[0;34m\u001b[0m\u001b[0m\n\u001b[1;32m     58\u001b[0m         \u001b[0mpprint\u001b[0m\u001b[0;34m(\u001b[0m\u001b[0msorted\u001b[0m\u001b[0;34m(\u001b[0m\u001b[0mm_state_dict\u001b[0m\u001b[0;34m.\u001b[0m\u001b[0mkeys\u001b[0m\u001b[0;34m(\u001b[0m\u001b[0;34m)\u001b[0m\u001b[0;34m)\u001b[0m\u001b[0;34m)\u001b[0m\u001b[0;34m\u001b[0m\u001b[0;34m\u001b[0m\u001b[0m\n\u001b[0;32m---> 59\u001b[0;31m         raise ValueError(\n\u001b[0m\u001b[1;32m     60\u001b[0m             \u001b[0;34m\"Invalid key map of NoneType. Follow the introduction above \"\u001b[0m\u001b[0;34m\u001b[0m\u001b[0;34m\u001b[0m\u001b[0m\n\u001b[1;32m     61\u001b[0m             \"to generate a valid key map first.\")\n",
      "\u001b[0;31mValueError\u001b[0m: Invalid key map of NoneType. Follow the introduction above to generate a valid key map first."
     ]
    }
   ],
   "source": [
    "import torch\n",
    "import torch.nn as nn\n",
    "import eve\n",
    "import eve.cores\n",
    "import eve.app\n",
    "import eve.utils\n",
    "\n",
    "# import a evenet\n",
    "from eve.app import EveImageNetAlexNet\n",
    "\n",
    "\n",
    "net = EveImageNetAlexNet()\n",
    "\n",
    "eve.utils.load_weight_from_legacy_checkpoint(\n",
    "    net,\n",
    "    legacy_checkpoint=\n",
    "    \"/media/densechen/data/code/eve-mli/examples/checkpoint/alexnet-owt-4df8aa71.pth\", # the downloaded pytorch model\n",
    "    # the checkpoint of alexnet can be downloaded from https://download.pytorch.org/models/alexnet-owt-4df8aa71.pth\n",
    "    eve_checkpoint=\n",
    "    \"/media/densechen/data/code/eve-mli/examples/checkpoint/eve-alexnet-owt-4df8aa71.pth\", # the path to store new model.\n",
    "    key_map=None, # NOTE: key_map is a dict which map the different names of weights between PyTorch and Eve.\n",
    "                  # Left to None at first time call, for that we haven't defined that. \n",
    ")\n"
   ]
  },
  {
   "cell_type": "markdown",
   "metadata": {},
   "source": [
    "Because we do not have the key_map defined, we call `load_weight_from_legacy_checkpoint` will raise an error.\n",
    "Following the guidance of the above output, we can easy generate a key_map for specified model."
   ]
  },
  {
   "cell_type": "code",
   "execution_count": 4,
   "metadata": {},
   "outputs": [],
   "source": [
    "key_map = {\n",
    "    'task_module.conv1.0.bias': 'features.0.bias',\n",
    "    'task_module.conv1.0.weight': 'features.0.weight',\n",
    "    'task_module.conv2.0.bias': 'features.3.bias',\n",
    "    'task_module.conv2.0.weight': 'features.3.weight',\n",
    "    'task_module.conv3.0.bias': 'features.6.bias',\n",
    "    'task_module.conv3.0.weight': 'features.6.weight',\n",
    "    'task_module.conv4.0.bias': 'features.8.bias',\n",
    "    'task_module.conv4.0.weight': 'features.8.weight',\n",
    "    'task_module.conv5.0.bias': 'features.10.bias',\n",
    "    'task_module.conv5.0.weight': 'features.10.weight',\n",
    "    'task_module.cls_1.1.bias': 'classifier.1.bias',\n",
    "    'task_module.cls_1.1.weight': 'classifier.1.weight',\n",
    "    'task_module.cls_2.1.bias': 'classifier.4.bias',\n",
    "    'task_module.cls_2.1.weight': 'classifier.4.weight',\n",
    "    'task_module.cls_3.bias': 'classifier.6.bias',\n",
    "    'task_module.cls_3.weight': 'classifier.6.weight',\n",
    "}\n",
    "# we also give the kep_map for each implemented methods.\n",
    "# key_map = eve.app.imagenet.alexnet.key_map"
   ]
  },
  {
   "cell_type": "markdown",
   "metadata": {},
   "source": [
    "Now, recall `load_weight_from_legacy_checkpoint` and deliver the key_map to it."
   ]
  },
  {
   "cell_type": "code",
   "execution_count": null,
   "metadata": {},
   "outputs": [
    {
     "name": "stdout",
     "output_type": "stream",
     "text": [
      "/media/densechen/data/code/eve-mli/examples/checkpoint/alexnet-owt-4df8aa71.pth does not contains a 'state_dict' keytry to take the whole checkpoint as state_dict.\n"
     ]
    }
   ],
   "source": [
    "eve.utils.load_weight_from_legacy_checkpoint(\n",
    "    net,\n",
    "    legacy_checkpoint=\n",
    "    \"/media/densechen/data/code/eve-mli/examples/checkpoint/alexnet-owt-4df8aa71.pth\", # the downloaded pytorch model\n",
    "    # the checkpoint of alexnet can be downloaded from https://download.pytorch.org/models/alexnet-owt-4df8aa71.pth\n",
    "    eve_checkpoint=\n",
    "    \"/media/densechen/data/code/eve-mli/examples/checkpoint/eve-alexnet-owt-4df8aa71.pth\", # the path to store new model.\n",
    "    key_map=key_map, # NOTE: key_map is a dict which map the different names of weights between PyTorch and Eve.\n",
    "                  # Left to None at first time call, for that we haven't defined that. \n",
    ")"
   ]
  },
  {
   "cell_type": "code",
   "execution_count": null,
   "metadata": {},
   "outputs": [],
   "source": []
  }
 ],
 "metadata": {
  "kernelspec": {
   "display_name": "Python 3",
   "language": "python",
   "name": "python3"
  },
  "language_info": {
   "codemirror_mode": {
    "name": "ipython",
    "version": 3
   },
   "file_extension": ".py",
   "mimetype": "text/x-python",
   "name": "python",
   "nbconvert_exporter": "python",
   "pygments_lexer": "ipython3",
   "version": "3.8.5"
  }
 },
 "nbformat": 4,
 "nbformat_minor": 4
}
