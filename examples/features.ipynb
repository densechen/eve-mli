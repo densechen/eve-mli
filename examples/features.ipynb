{
 "cells": [
  {
   "cell_type": "markdown",
   "metadata": {},
   "source": [
    "# Eve: Making Learing Interesting"
   ]
  },
  {
   "cell_type": "markdown",
   "metadata": {},
   "source": [
    "## The usage of hidden states\n",
    "\n",
    "Different with **torch.nn.buffer**, we introduce a new property named **eve.cores.Eve.hidden_state** to record the \n",
    "tempory hidden values of a layer. All the hidden states  will be reset while **Eve.reset()** called, and the hidden\n",
    "states will not be saved along with weights."
   ]
  },
  {
   "cell_type": "code",
   "execution_count": 1,
   "metadata": {},
   "outputs": [],
   "source": [
    "import eve\n",
    "import eve.cores\n",
    "import torch\n",
    "\n",
    "class Layer(eve.cores.Eve):\n",
    "    def __init__(self):\n",
    "        super().__init__()\n",
    "        \n",
    "        # register a hidden states\n",
    "        self.register_hidden_state(\"hidden_value_hid\", torch.tensor([1.0]))\n",
    "    \n",
    "    def forward(self):\n",
    "        # access the hidden_value just like the attribute of class.\n",
    "        self.hidden_value_hid += 1\n"
   ]
  },
  {
   "cell_type": "code",
   "execution_count": 2,
   "metadata": {},
   "outputs": [
    {
     "name": "stdout",
     "output_type": "stream",
     "text": [
      "hidden_value_hid 1.0\n"
     ]
    }
   ],
   "source": [
    "# define L\n",
    "L = Layer()\n",
    "\n",
    "# print all hidden states\n",
    "for k, v in L.named_hidden_states():\n",
    "    print(k, v.item())"
   ]
  },
  {
   "cell_type": "code",
   "execution_count": 3,
   "metadata": {},
   "outputs": [
    {
     "name": "stdout",
     "output_type": "stream",
     "text": [
      "hidden_value_hid 2.0\n"
     ]
    }
   ],
   "source": [
    "# update the hidden state\n",
    "L()\n",
    "\n",
    "# print the updated hidden state\n",
    "for k, v in L.named_hidden_states():\n",
    "    print(k, v.item())"
   ]
  },
  {
   "cell_type": "code",
   "execution_count": 4,
   "metadata": {},
   "outputs": [
    {
     "name": "stdout",
     "output_type": "stream",
     "text": [
      "hidden_value_hid 0.0\n"
     ]
    }
   ],
   "source": [
    "# clear hidden state to zero\n",
    "L.reset(set_to_none=False)\n",
    "\n",
    "for k, v in L.named_hidden_states():\n",
    "    print(k, v.item())"
   ]
  },
  {
   "cell_type": "code",
   "execution_count": 5,
   "metadata": {},
   "outputs": [],
   "source": [
    "# set hidden state to none\n",
    "L.reset(set_to_none=True)\n",
    "\n",
    "for k, v in L.named_hidden_states():\n",
    "    print(k, torch.typename(v))\n",
    "    # print nothing, the None hidden state will not be fetched."
   ]
  },
  {
   "cell_type": "markdown",
   "metadata": {},
   "source": [
    "## The usage of EveParameter\n",
    "\n",
    "**Eve.EveParameter** is used to control the network arguments which not be counted into the gradient updating.\n",
    "It will be saved along with weights and have very simily properties with **nn.Parameter**.\n",
    "\n",
    "Usually, we can use **Eve.EveParameter** to control the evolution of network along time."
   ]
  },
  {
   "cell_type": "code",
   "execution_count": 6,
   "metadata": {},
   "outputs": [],
   "source": [
    "import eve\n",
    "import eve.cores\n",
    "import torch\n",
    "import torch.nn as nn\n",
    "from torch.nn import Parameter\n",
    "class Layer(eve.cores.Eve):\n",
    "    def __init__(self):\n",
    "        super().__init__()\n",
    "        \n",
    "        # 0 indicates ReLU, 1 indicates LeakyReLU\n",
    "        self.register_eve_parameter(\"fn_flag_eve\", Parameter(data=torch.tensor([1.])))\n",
    "        \n",
    "        # define the switch operation\n",
    "        def switch_fn(param, action=None, obs=None):\n",
    "            if param == 1:\n",
    "                param.zero_().add_(0)\n",
    "            elif param == 0:\n",
    "                param.zero_().add_(1)\n",
    "        \n",
    "        self.register_upgrade_fn(self.fn_flag_eve, switch_fn)\n",
    "    \n",
    "    def forward(self):\n",
    "        if self.fn_flag_eve == 0:\n",
    "            print(\"using ReLU function\")\n",
    "        elif self.fn_flag_eve == 1:\n",
    "            print(\"using LeakyReLU function\")        "
   ]
  },
  {
   "cell_type": "code",
   "execution_count": 7,
   "metadata": {},
   "outputs": [
    {
     "name": "stdout",
     "output_type": "stream",
     "text": [
      "fn_flag_eve 1.0\n"
     ]
    }
   ],
   "source": [
    "# define L\n",
    "L = Layer()\n",
    "\n",
    "for k, v in L.named_eve_parameters():\n",
    "    print(k, v.item())"
   ]
  },
  {
   "cell_type": "code",
   "execution_count": 8,
   "metadata": {},
   "outputs": [
    {
     "name": "stdout",
     "output_type": "stream",
     "text": [
      "using LeakyReLU function\n"
     ]
    }
   ],
   "source": [
    "# check act\n",
    "L()"
   ]
  },
  {
   "cell_type": "code",
   "execution_count": 9,
   "metadata": {},
   "outputs": [],
   "source": [
    "# switch\n",
    "from eve.cores import upgrade_fn\n",
    "with torch.no_grad():\n",
    "    upgrade_fn[L.fn_flag_eve](param=L.fn_flag_eve)"
   ]
  },
  {
   "cell_type": "code",
   "execution_count": 10,
   "metadata": {},
   "outputs": [
    {
     "name": "stdout",
     "output_type": "stream",
     "text": [
      "using ReLU function\n"
     ]
    }
   ],
   "source": [
    "# check act\n",
    "L()"
   ]
  },
  {
   "cell_type": "code",
   "execution_count": 11,
   "metadata": {},
   "outputs": [
    {
     "name": "stdout",
     "output_type": "stream",
     "text": [
      "OrderedDict([('fn_flag_eve', tensor([0.]))])\n"
     ]
    }
   ],
   "source": [
    "# save eve parameters\n",
    "print(L.state_dict())"
   ]
  },
  {
   "cell_type": "markdown",
   "metadata": {},
   "source": [
    "## Use Upgrader to control evolution\n",
    "\n",
    "Like **torch.optim.Optimizer**, we provide **eve.upgrade.Upgrader** to control the evolution of eve paraemters."
   ]
  },
  {
   "cell_type": "code",
   "execution_count": 12,
   "metadata": {},
   "outputs": [],
   "source": [
    "# define a upgrader\n",
    "import eve.upgrade"
   ]
  },
  {
   "cell_type": "code",
   "execution_count": 13,
   "metadata": {},
   "outputs": [
    {
     "name": "stdout",
     "output_type": "stream",
     "text": [
      "{'state': {}, 'param_groups': [{'params': [0]}]}\n"
     ]
    }
   ],
   "source": [
    "# add to upgrader\n",
    "upgrader = eve.upgrade.Upgrader(L.eve_parameters())\n",
    "\n",
    "print(upgrader.state_dict())"
   ]
  },
  {
   "cell_type": "code",
   "execution_count": 14,
   "metadata": {},
   "outputs": [
    {
     "name": "stdout",
     "output_type": "stream",
     "text": [
      "using ReLU function\n"
     ]
    }
   ],
   "source": [
    "# check act\n",
    "L()"
   ]
  },
  {
   "cell_type": "code",
   "execution_count": 15,
   "metadata": {},
   "outputs": [],
   "source": [
    "# upgrade it \n",
    "upgrader.step()"
   ]
  },
  {
   "cell_type": "code",
   "execution_count": 16,
   "metadata": {},
   "outputs": [
    {
     "name": "stdout",
     "output_type": "stream",
     "text": [
      "using LeakyReLU function\n"
     ]
    }
   ],
   "source": [
    "# re-check act\n",
    "L()"
   ]
  }
 ],
 "metadata": {
  "kernelspec": {
   "display_name": "Python 3",
   "language": "python",
   "name": "python3"
  },
  "language_info": {
   "codemirror_mode": {
    "name": "ipython",
    "version": 3
   },
   "file_extension": ".py",
   "mimetype": "text/x-python",
   "name": "python",
   "nbconvert_exporter": "python",
   "pygments_lexer": "ipython3",
   "version": "3.8.5"
  }
 },
 "nbformat": 4,
 "nbformat_minor": 4
}
